{
 "cells": [
  {
   "cell_type": "markdown",
   "metadata": {},
   "source": ["# Análise Spotify Top 50 2023"]
  }
 ],
 "metadata": {
  "kernelspec": {"display_name": "Python 3", "language": "python", "name": "python3"}
 },
 "nbformat": 4
}